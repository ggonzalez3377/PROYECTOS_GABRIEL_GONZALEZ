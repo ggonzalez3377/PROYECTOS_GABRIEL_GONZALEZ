{
  "cells": [
    {
      "cell_type": "markdown",
      "metadata": {
        "id": "17-1LFiuODyo"
      },
      "source": [
        "# **- Programacion en Python**\n"
      ]
    },
    {
      "cell_type": "markdown",
      "metadata": {
        "id": "Y260jnbIPqyR"
      },
      "source": [
        "## *Basicos de Python*"
      ]
    },
    {
      "cell_type": "markdown",
      "metadata": {
        "id": "Cp1p25FQQcig"
      },
      "source": [
        "Temas a cubrir:\n",
        "*   Generalidades\n",
        "*   Tipos de datos\n",
        "*   Expresiones"
      ]
    },
    {
      "cell_type": "markdown",
      "metadata": {
        "id": "2MGGeddjSI3M"
      },
      "source": [
        "<strong>Generalidades:</strong>"
      ]
    },
    {
      "cell_type": "code",
      "execution_count": null,
      "metadata": {
        "colab": {
          "base_uri": "https://localhost:8080/"
        },
        "id": "9a8kHSj7j5Ix",
        "outputId": "408bfb3e-3bd2-48f4-dcc6-55cfe12d1ac0"
      },
      "outputs": [
        {
          "name": "stdout",
          "output_type": "stream",
          "text": [
            "Hola mundo\n",
            "Mi nombre es Gabriel\n",
            "\n",
            "Hola mundo\n",
            "Mi nombre es Gabriel\n"
          ]
        }
      ],
      "source": [
        "#Hola mundo\n",
        "print(\"Hola mundo\")\n",
        "print(\"Mi nombre es Gabriel\\n\")\n",
        "\n",
        "#Saltos de linea\n",
        "print(\"Hola mundo\\nMi nombre es Gabriel\")"
      ]
    },
    {
      "cell_type": "markdown",
      "metadata": {
        "id": "Iz4Zp0vrX17y"
      },
      "source": [
        "<strong>Tipos de datos:</strong>"
      ]
    },
    {
      "cell_type": "code",
      "execution_count": null,
      "metadata": {
        "colab": {
          "base_uri": "https://localhost:8080/"
        },
        "id": "fg19pQe85gV_",
        "outputId": "413e9b93-caa7-4556-c204-92175adb5bff"
      },
      "outputs": [
        {
          "name": "stdout",
          "output_type": "stream",
          "text": [
            "10   10.56   Gabriel   True\n",
            "<class 'int'>   <class 'float'>   <class 'str'>   <class 'bool'>\n"
          ]
        }
      ],
      "source": [
        "#Asignacion de valores y tipos de datos\n",
        "\n",
        "numero = 10         #int\n",
        "num_flot = 10.56    #float\n",
        "nombre = \"Gabriel\"  #string\n",
        "valor = True        #booleano\n",
        "\n",
        "\n",
        "print(numero,\" \",num_flot, \" \", nombre, \" \", valor)\n",
        "print(type(numero),\" \",type(num_flot), \" \", type(nombre), \" \", type(valor))  #Tipo de dato"
      ]
    },
    {
      "cell_type": "code",
      "execution_count": null,
      "metadata": {
        "colab": {
          "base_uri": "https://localhost:8080/",
          "height": 122
        },
        "id": "yuWwai4F8Yob",
        "outputId": "13873e27-8c71-4e84-9c8e-bdcc30795e9c"
      },
      "outputs": [
        {
          "name": "stdout",
          "output_type": "stream",
          "text": [
            "El resultado es:  16.7\n",
            "\n",
            "\n",
            "10\n",
            "Gabriel\n"
          ]
        },
        {
          "data": {
            "application/vnd.google.colaboratory.intrinsic+json": {
              "type": "string"
            },
            "text/plain": [
              "'\\n    coment\\n'"
            ]
          },
          "execution_count": 6,
          "metadata": {},
          "output_type": "execute_result"
        }
      ],
      "source": [
        "#Operacion enteros - flotantes\n",
        "num1 = 10\n",
        "num2 = 6.7\n",
        "suma = num1 + num2  #Queda valor flotante\n",
        "\n",
        "print(\"El resultado es: \", suma)\n",
        "print(\"\\n\")\n",
        "\n",
        "#Tipado dinamico  - variable cambia de tipo de dato\n",
        "\n",
        "valor = 10\n",
        "\n",
        "print(valor)\n",
        "\n",
        "valor = \"Gabriel\"\n",
        "\n",
        "print(valor)\n",
        "\"\"\"\n",
        "    coment\n",
        "\"\"\"\n"
      ]
    },
    {
      "cell_type": "code",
      "execution_count": null,
      "metadata": {
        "id": "2IgLw9FEagZr"
      },
      "outputs": [],
      "source": [
        "#OPERADORES\n",
        "\n",
        "#Operadores aritmeticos\n",
        "\n",
        "\"\"\"\n",
        "+ - suma\n",
        "- - resta\n",
        "* - multiplicacion\n",
        "/ - Division\n",
        "// - Division entera\n",
        "% - Modulo\n",
        "** - Potencia\n",
        "\"\"\"\n",
        "\n",
        "#Operadores relacionales\n",
        "\n",
        "\"\"\"\n",
        "> - Mayor\n",
        "< - Menor\n",
        ">= - Mayor igual\n",
        "<= - Menor igual\n",
        "!= - Diferente\n",
        "== - igual\n",
        "\"\"\"\n",
        "\n",
        "\n",
        "#Operadores logicos\n",
        "\n",
        "\"\"\"\n",
        "and\n",
        "or\n",
        "not\n",
        "\"\"\"\n",
        "\n",
        "\n",
        "#Operadores de asignacion\n",
        "\n",
        "\"\"\"\n",
        "a += 5   / a = a + 5  / suma asignacion\n",
        "a -= 5   / resta asignacion\n",
        "a *= 3   / Multiplicacion asignacion\n",
        "a /= 3   / Division asignacion\n",
        "a **= 2  / Potencia asignacion\n",
        "a %= 2   / Modulo asignacion\n",
        "\"\"\"\n",
        "\n"
      ]
    },
    {
      "cell_type": "code",
      "execution_count": null,
      "metadata": {
        "colab": {
          "base_uri": "https://localhost:8080/"
        },
        "id": "r_IzX-6egt7p",
        "outputId": "43029db3-f2d1-4297-8fc0-36a9c3eaf4c2"
      },
      "outputs": [
        {
          "name": "stdout",
          "output_type": "stream",
          "text": [
            "Hola Gabriel tienes 20 años\n",
            "Hola Gabriel tienes 20 años\n",
            "Hola Gabriel tienes 20 años\n",
            "Digite su nombre: Gabriel\n",
            "Su nombre es Gabriel\n",
            "Digite un numero: 10\n",
            "El numero es 10\n"
          ]
        }
      ],
      "source": [
        "#SALIDA Y ENTRADA DE DATOS\n",
        "\n",
        "#Salida\n",
        "\n",
        "Nombre = \"Gabriel\"\n",
        "Edad = 20\n",
        "\n",
        "print(\"Hola\", Nombre, \"tienes\", Edad, \"años\")         #Forma 1\n",
        "print(\"Hola {} tienes {} años\".format(Nombre,Edad))   #Forma 2\n",
        "print(f\"Hola {Nombre} tienes {Edad} años\")            #Forma 3\n",
        "\n",
        "\n",
        "#Entrada\n",
        "\n",
        "#Caso con strings\n",
        "nombre = input(\"Digite su nombre: \")\n",
        "print(f\"Su nombre es {nombre}\")\n",
        "\n",
        "#Caso con demas variables (se debe realizar cambio)\n",
        "numero = int(input(\"Digite un numero: \"))\n",
        "print(f\"El numero es {numero}\")"
      ]
    },
    {
      "cell_type": "code",
      "execution_count": null,
      "metadata": {
        "colab": {
          "base_uri": "https://localhost:8080/"
        },
        "id": "IwSUtBgStj94",
        "outputId": "c1c7cc9b-0a39-4624-f655-6d7daf3d2836"
      },
      "outputs": [
        {
          "name": "stdout",
          "output_type": "stream",
          "text": [
            "10\n",
            "<class 'int'>\n",
            "15\n",
            "<class 'str'>\n"
          ]
        }
      ],
      "source": [
        "#Funciones integradas\n",
        "\n",
        "#Conversion de tipo de dato\n",
        "\n",
        "#De cadena a datos numerico\n",
        "n = int(\"10\")\n",
        "print(n)\n",
        "print(type(n))\n",
        "\n",
        "\n",
        "#De datos numerico a cadena\n",
        "m = str(15)\n",
        "print(m)\n",
        "print(type(m))\n",
        "\n",
        "#Otras funciones\n",
        "# abs (valor absoluto), round (redondea valor), len(numero caracteres)\n",
        "# Upper (mayuscula), Lower(minuscula),\n"
      ]
    },
    {
      "cell_type": "markdown",
      "metadata": {
        "id": "udPq_a9SwZ5G"
      },
      "source": [
        "\n",
        "\n",
        "<strong>Expresiones (EJERCICIOS):</strong>\n",
        "\n"
      ]
    },
    {
      "cell_type": "code",
      "execution_count": null,
      "metadata": {
        "colab": {
          "base_uri": "https://localhost:8080/"
        },
        "id": "Bsf2mAggwncm",
        "outputId": "e548ea01-ce9e-40d6-c75e-1f6502e6b3f1"
      },
      "outputs": [
        {
          "name": "stdout",
          "output_type": "stream",
          "text": [
            "Digite el valor a: 3\n",
            "Digite el valor b: 2\n",
            "Digite el valor c: 1\n",
            "El resultado es -13.5\n"
          ]
        }
      ],
      "source": [
        "#Ejercicio 1 - Operacion aritmetica\n",
        "\n",
        "a = float(input(\"Digite el valor a: \"))\n",
        "b = float(input(\"Digite el valor b: \"))\n",
        "c = float(input(\"Digite el valor c: \"))\n",
        "\n",
        "resultado = ((a**3)*((b**2)-(2*a*c)))/(2*b)\n",
        "\n",
        "print(f\"El resultado es {resultado}\")\n",
        "\n",
        "\n"
      ]
    },
    {
      "cell_type": "code",
      "execution_count": null,
      "metadata": {
        "colab": {
          "base_uri": "https://localhost:8080/"
        },
        "id": "cLd8ZzwGM70j",
        "outputId": "a5c68477-4569-4fa3-dd09-c4a8bcf81b9a"
      },
      "outputs": [
        {
          "name": "stdout",
          "output_type": "stream",
          "text": [
            "a -> 5\n",
            "b -> 3\n",
            "a -> 3\n",
            "b -> 5\n"
          ]
        }
      ],
      "source": [
        "#Ejercicio 2 - intercambio valor de variables\n",
        "\n",
        "a = 5\n",
        "b = 3\n",
        "print(f\"a -> {a}\\nb -> {b}\")\n",
        "a,b = b,a\n",
        "print(f\"a -> {a}\\nb -> {b}\")"
      ]
    },
    {
      "cell_type": "code",
      "execution_count": null,
      "metadata": {
        "colab": {
          "base_uri": "https://localhost:8080/"
        },
        "id": "IzdfWOUCcRkr",
        "outputId": "83e336b5-437d-44cc-d6c9-8066907a13f2"
      },
      "outputs": [
        {
          "name": "stdout",
          "output_type": "stream",
          "text": [
            "Radio del circulo? 2\n",
            "El area del circulo es: 12.57\n",
            "La longitud del circulo es: 12.57\n"
          ]
        }
      ],
      "source": [
        "#Ejercicio 3 - ingresar radio del circulo y reportar area y longitud\n",
        "\n",
        "import math\n",
        "\n",
        "radio = float(input(\"Radio del circulo? \"))\n",
        "area = math.pi * (radio**2)\n",
        "longitud = 2 * math.pi * radio\n",
        "\n",
        "print(f\"El area del circulo es: {area:.2f}\")\n",
        "print(f\"La longitud del circulo es: {longitud:.2f}\")\n",
        "\n",
        "\n"
      ]
    },
    {
      "cell_type": "code",
      "execution_count": null,
      "metadata": {
        "colab": {
          "base_uri": "https://localhost:8080/"
        },
        "id": "3fve_fqIGM7F",
        "outputId": "877ed7ab-2380-4345-d284-246487add565"
      },
      "outputs": [
        {
          "name": "stdout",
          "output_type": "stream",
          "text": [
            "Monto a pagar? 10000\n",
            "Usted debe pagar: 8500.0\n"
          ]
        }
      ],
      "source": [
        "#Ejercicio 4 - monto a pagar\n",
        "\n",
        "monto = int(input(\"Monto a pagar? \"))\n",
        "print(f\"Usted debe pagar: {monto*(1-0.15)}\")\n"
      ]
    },
    {
      "cell_type": "markdown",
      "metadata": {
        "id": "t7Ync1VdHM2g"
      },
      "source": [
        "## *Condicionales*"
      ]
    },
    {
      "cell_type": "code",
      "execution_count": null,
      "metadata": {
        "colab": {
          "base_uri": "https://localhost:8080/"
        },
        "id": "ieFo3nayIVnk",
        "outputId": "56f92889-465f-40f0-fb0e-32fe790d14e1"
      },
      "outputs": [
        {
          "name": "stdout",
          "output_type": "stream",
          "text": [
            "Digite un numero 4\n",
            "Numero positivo\n"
          ]
        }
      ],
      "source": [
        "# Condicionales\n",
        "\n",
        "numero = int(input(\"Digite un numero \"))\n",
        "\n",
        "if numero>0:\n",
        "   print(\"Numero positivo\")\n",
        "elif numero == 0:\n",
        "   print(\"Numero nulo\")\n",
        "else:\n",
        "   print(\"Numero negativo\")\n",
        "\n",
        "#no existe condicional multiple"
      ]
    },
    {
      "cell_type": "code",
      "execution_count": null,
      "metadata": {
        "colab": {
          "base_uri": "https://localhost:8080/"
        },
        "id": "k8IjT0J09IHZ",
        "outputId": "4bf2884a-28aa-4344-d1a7-c57d23934c3b"
      },
      "outputs": [
        {
          "name": "stdout",
          "output_type": "stream",
          "text": [
            "Numero 1:5\n",
            "Numero 2:7\n",
            "Ambos numeros son impares\n"
          ]
        }
      ],
      "source": [
        "#Ejercicio 1 - par o impar\n",
        "\n",
        "num1 = int(input(\"Numero 1:\"))\n",
        "num2 = int(input(\"Numero 2:\"))\n",
        "\n",
        "if num1 % 2 == 0 or num2 % 2 == 0:\n",
        "   if num1 % 2 == 0 and num2 % 2 == 0:\n",
        "      print(\"Ambos numeros son pares\")\n",
        "   elif num1 % 2 == 0 and num2 % 2 != 0:\n",
        "      print(\"Numero 1 es par\")\n",
        "   else:\n",
        "      print(\"Numero 2 es par\")\n",
        "\n",
        "elif num1 % 2 != 0 or num2 % 2 != 0:\n",
        "   if num1 % 2 != 0 and num2 % 2 != 0:\n",
        "      print(\"Ambos numeros son impares\")\n",
        "   elif num1 % 2 != 0 and num2 % 2 == 0:\n",
        "      print(\"Numero 1 es impar\")\n",
        "   else:\n",
        "      print(\"Numero 2 es impar\")\n"
      ]
    },
    {
      "cell_type": "code",
      "execution_count": null,
      "metadata": {
        "colab": {
          "base_uri": "https://localhost:8080/"
        },
        "id": "r-PYrotLBPOv",
        "outputId": "48125ad8-b620-43a2-d2fa-46f4c8c8b211"
      },
      "outputs": [
        {
          "name": "stdout",
          "output_type": "stream",
          "text": [
            "Numero 1: 4\n",
            "Numero 2: 10\n",
            "Numero 3: 21\n",
            "El numero mayor es el: 21\n"
          ]
        }
      ],
      "source": [
        "#Ejercicio 2 - 3 numeros y determinar el mayor\n",
        "\n",
        "num1 = int(input(\"Numero 1: \"))\n",
        "num2 = int(input(\"Numero 2: \"))\n",
        "num3 = int(input(\"Numero 3: \"))\n",
        "\n",
        "if num1>num2 and num1>num3:\n",
        "   print(f\"El numero mayor es el: {num1}\")\n",
        "\n",
        "elif num2>num1 and num2>num3:\n",
        "   print(f\"El numero mayor es el: {num2}\")\n",
        "else:\n",
        "   print(f\"El numero mayor es el: {num3}\")\n"
      ]
    },
    {
      "cell_type": "code",
      "execution_count": null,
      "metadata": {
        "colab": {
          "base_uri": "https://localhost:8080/"
        },
        "id": "4zg71GjxJKOz",
        "outputId": "b0988b15-e162-4ed5-c0cd-4d2716ef3f77"
      },
      "outputs": [
        {
          "name": "stdout",
          "output_type": "stream",
          "text": [
            "Digite una letra A\n",
            "Vocal\n"
          ]
        }
      ],
      "source": [
        "#Ejercicio 3 - pedir un caracter y decir si es vocal o no\n",
        "\n",
        "letra = input(\"Digite una letra \").lower()\n",
        "\n",
        "if letra == \"a\" or  letra == \"e\" or letra == \"i\" or letra == \"o\" or letra == \"u\":\n",
        "   print(\"Vocal\")\n",
        "else:\n",
        "   print(\"No vocal\")"
      ]
    },
    {
      "cell_type": "code",
      "execution_count": null,
      "metadata": {
        "colab": {
          "base_uri": "https://localhost:8080/"
        },
        "id": "Su-gOeHmTBku",
        "outputId": "9d97ed27-27f4-4b15-daab-e82786b65d50"
      },
      "outputs": [
        {
          "name": "stdout",
          "output_type": "stream",
          "text": [
            "Operaciones disponibles: \n",
            "S/s - Suma\n",
            "R/r - Resta\n",
            "M/m - Multiplicacion\n",
            "D/d - Division\n",
            "Operacion deseada: D\n",
            "Numero 1: 4\n",
            "Numero 2: 2\n",
            "4/2 = 2.0\n"
          ]
        }
      ],
      "source": [
        "#Ejercicio 4 - Calculadora\n",
        "\n",
        "print(\"Operaciones disponibles: \")\n",
        "print(\"S/s - Suma\")\n",
        "print(\"R/r - Resta\")\n",
        "print(\"M/m - Multiplicacion\")\n",
        "print(\"D/d - Division\")\n",
        "\n",
        "opcion = input(\"Operacion deseada: \").lower()\n",
        "\n",
        "if opcion == \"s\":\n",
        "   num1 = int(input(\"Numero 1: \"))\n",
        "   num2 = int(input(\"Numero 2: \"))\n",
        "   print(f\"{num1}+{num2} = {num1+num2}\")\n",
        "elif opcion == \"r\":\n",
        "   num1 = int(input(\"Numero 1: \"))\n",
        "   num2 = int(input(\"Numero 2: \"))\n",
        "   print(f\"{num1}-{num2} = {num1-num2}\")\n",
        "elif opcion == \"m\":\n",
        "   num1 = int(input(\"Numero 1: \"))\n",
        "   num2 = int(input(\"Numero 2: \"))\n",
        "   print(f\"{num1}*{num2} = {num1*num2}\")\n",
        "elif opcion == \"d\":\n",
        "   num1 = int(input(\"Numero 1: \"))\n",
        "   num2 = int(input(\"Numero 2: \"))\n",
        "   print(f\"{num1}/{num2} = {num1/num2}\")\n",
        "else:\n",
        "  print(\"Salio del programa\")\n",
        "\n",
        "\n",
        "\n"
      ]
    },
    {
      "cell_type": "markdown",
      "metadata": {
        "id": "JCet2ACHq4Jr"
      },
      "source": [
        "## *Ciclos*"
      ]
    },
    {
      "cell_type": "code",
      "execution_count": null,
      "metadata": {
        "colab": {
          "base_uri": "https://localhost:8080/"
        },
        "id": "jH5ezvSXrlDj",
        "outputId": "af4fd5a2-0555-40fc-e365-6953b7623907"
      },
      "outputs": [
        {
          "name": "stdout",
          "output_type": "stream",
          "text": [
            "Hola\n",
            "Hola\n",
            "Hola\n",
            "\n",
            "Fin\n"
          ]
        }
      ],
      "source": [
        "# Bucle while\n",
        "\n",
        "num = 0\n",
        "while num < 3:\n",
        "      print(\"Hola\")\n",
        "      num = num + 1\n",
        "print(\"\\nFin\")\n"
      ]
    },
    {
      "cell_type": "code",
      "execution_count": null,
      "metadata": {
        "colab": {
          "base_uri": "https://localhost:8080/"
        },
        "id": "U6eoI8Avyj5Y",
        "outputId": "6d298600-6dcc-4c35-853f-6a782a34a7f4"
      },
      "outputs": [
        {
          "name": "stdout",
          "output_type": "stream",
          "text": [
            "0\n",
            "1\n",
            "2\n"
          ]
        }
      ],
      "source": [
        "# Bucle for\n",
        "\n",
        "num = 3\n",
        "for i in range(num):\n",
        "    print(i)"
      ]
    },
    {
      "cell_type": "code",
      "execution_count": null,
      "metadata": {
        "colab": {
          "base_uri": "https://localhost:8080/"
        },
        "id": "w1afrzCNvGaR",
        "outputId": "5d23cde2-dc50-41a9-d90a-5ac6f27c562d"
      },
      "outputs": [
        {
          "name": "stdout",
          "output_type": "stream",
          "text": [
            "Digite una letra: Y\n",
            "Letra incorrecta\n",
            "Digite una letra: K\n",
            "Letra incorrecta\n",
            "Digite una letra: L\n",
            "Letra incorrecta\n",
            "Digite una letra: C\n",
            "Gracias\n"
          ]
        }
      ],
      "source": [
        "#Ejercicios\n",
        "\n",
        "letra = \"T\"\n",
        "\n",
        "while letra != \"C\":\n",
        "   letra = input(\"Digite una letra: \")\n",
        "   if letra == \"C\":\n",
        "      print(\"Gracias\")\n",
        "   else:\n",
        "      print(\"Letra incorrecta\")"
      ]
    },
    {
      "cell_type": "markdown",
      "metadata": {
        "id": "t4RaZdaP6xfa"
      },
      "source": [
        "## *Listas*"
      ]
    },
    {
      "cell_type": "code",
      "execution_count": null,
      "metadata": {
        "colab": {
          "base_uri": "https://localhost:8080/"
        },
        "id": "Kps-nGsv3SQ9",
        "outputId": "e59adb20-0721-4e92-f72e-ce5c5ecf1413"
      },
      "outputs": [
        {
          "name": "stdout",
          "output_type": "stream",
          "text": [
            "['Lunes', 'Martes', 'Miercoles', 'Jueves', 'Viernes']\n",
            "Martes\n",
            "['Lunes', 'Martes', 'Miercoles', 'Jueves']\n",
            "['Lunes', 'Martes', 'Miercoles']\n",
            "['Miercoles', 'Jueves', 'Viernes']\n",
            "[1, 2, True, False, 'Lunes', 'Martes', 0.2, 10.5]\n"
          ]
        }
      ],
      "source": [
        "#Listas\n",
        "\n",
        "lista1 = [\"Lunes\", \"Martes\", \"Miercoles\", \"Jueves\", \"Viernes\"]\n",
        "\n",
        "print(lista1)\n",
        "print(lista1[1])\n",
        "print(lista1[0:4])\n",
        "print(lista1[:3])\n",
        "print(lista1[2:])\n",
        "\n",
        "lista2 = [1,2, True, False, \"Lunes\", \"Martes\", 0.2, 10.5]  #Listas con combinacion de tipo de dato\n",
        "print(lista2)"
      ]
    },
    {
      "cell_type": "code",
      "execution_count": null,
      "metadata": {
        "colab": {
          "base_uri": "https://localhost:8080/"
        },
        "id": "xT4WLpFcwiYz",
        "outputId": "cbb7f410-75a1-4a7c-a255-acb079dc8a5b"
      },
      "outputs": [
        {
          "name": "stdout",
          "output_type": "stream",
          "text": [
            "5\n",
            "[1, 2, 3, 4, 5, 6]\n",
            "[1, 2, 3, 3.5, 4, 5, 6]\n",
            "[1, 2, 3, 3.5, 4, 5, 6, 7, 8, 9]\n",
            "[1, 2, 3, 4, 5, 6, 7, 8]\n",
            "True\n",
            "2\n",
            "1\n",
            "[1, 2, 4, 5, 6, 7, 8]\n",
            "[1, 2, 4, 6, 7, 8]\n",
            "[]\n",
            "[4, 3, 2, 1]\n",
            "[4, 3, 2, 1, 4, 3, 2, 1]\n",
            "[1, 1, 2, 2, 3, 3, 4, 4]\n",
            "[4, 4, 3, 3, 2, 2, 1, 1]\n"
          ]
        }
      ],
      "source": [
        "#Funciones con listas (metodos)\n",
        "\n",
        "#Determinacion tamaño de lista\n",
        "vect = [1,2,3,4,5]\n",
        "print(len(vect))\n",
        "\n",
        "#Agregar elementos a una lista al final\n",
        "vect.append(6)   #Esta funcion agrega el elemento siempre al final\n",
        "print(vect)\n",
        "\n",
        "#Agregar elemento a una lista en posicion especifica\n",
        "vect.insert(3,3.5)\n",
        "print(vect)\n",
        "\n",
        "#Agregar mas de un elemento a la lista\n",
        "vect.extend([7,8,9])\n",
        "print(vect)\n",
        "\n",
        "#Concatenar listas\n",
        "lista1 = [1,2,3,4]\n",
        "lista2 = [5,6,7,8]\n",
        "lista3 = lista1+lista2\n",
        "\n",
        "print(lista3)\n",
        "\n",
        "#Ver si un valor existe en la lista (busqueda)\n",
        "print(3 in lista3)\n",
        "\n",
        "#Ver en que indice esta el valor\n",
        "print(lista3.index(3))\n",
        "\n",
        "#Cuantas veces esta repetido el valor\n",
        "print(lista3.count(1))\n",
        "\n",
        "#Eliminar elemento de una lista pasando el indice (posicion a eliminar)\n",
        "lista3.pop(2) #se le puede pasar como parametro el indice del elemento a eliminar sino elimina el ultimo\n",
        "print(lista3)\n",
        "\n",
        "#Eliminar elemento de una lista pasando al valor a eliminar\n",
        "lista3.remove(5)\n",
        "print(lista3)\n",
        "\n",
        "#Dejar la lista completamente vacia\n",
        "lista3.clear()\n",
        "print(lista3)\n",
        "\n",
        "#Hacer que la lista queda al reves\n",
        "lista1.reverse()\n",
        "print(lista1)\n",
        "\n",
        "#Se puede tambien multiplicar para amplicar los valores\n",
        "lista1 = lista1*2\n",
        "print(lista1)\n",
        "\n",
        "#ordenar elementos de una lista\n",
        "lista1.sort()  #menor a mayor\n",
        "print(lista1)\n",
        "lista1.sort(reverse=True) #mayor a menor\n",
        "print(lista1)"
      ]
    },
    {
      "cell_type": "code",
      "execution_count": null,
      "metadata": {
        "id": "Lx78vyv_7ztx"
      },
      "outputs": [],
      "source": [
        "#llenar una lista\n",
        "cantidad = int(input(\"Cuantos numeros desea: \"))\n",
        "num = []\n",
        "\n",
        "for i in range(cantidad):\n",
        "    elem = int(input(f\"Numero {i+1} \"))\n",
        "    num.append(elem)"
      ]
    },
    {
      "cell_type": "code",
      "execution_count": null,
      "metadata": {
        "colab": {
          "base_uri": "https://localhost:8080/"
        },
        "id": "ovkDAmzZZ4Y0",
        "outputId": "8a698f94-41cc-4ecc-d8b6-b0242d4fcb24"
      },
      "outputs": [
        {
          "name": "stdout",
          "output_type": "stream",
          "text": [
            "fuera 100\n",
            "100\n",
            "100\n",
            "100\n",
            "100\n",
            "100\n",
            "fuera 21\n",
            "32\n",
            "32\n",
            "32\n",
            "32\n",
            "62\n",
            "fuera 8\n",
            "21\n",
            "21\n",
            "21\n",
            "32\n",
            "62\n",
            "fuera 32\n",
            "7\n",
            "8\n",
            "21\n",
            "32\n",
            "62\n",
            "fuera 62\n",
            "7\n",
            "8\n",
            "21\n",
            "32\n",
            "62\n",
            "[7, 8, 21, 32, 62, 100]\n"
          ]
        }
      ],
      "source": [
        "L = [100, 32, 21, 7, 8, 62]\n",
        "\n",
        "aux = 0\n",
        "for i in range(len(L)-1):\n",
        "    for j in range(len(L)-1):\n",
        "        if(L[j] > L[j+1]):\n",
        "           aux = L[j]\n",
        "           L[j] = L[j+1]\n",
        "           L[j+1] = aux\n",
        "print(L)\n"
      ]
    },
    {
      "cell_type": "markdown",
      "metadata": {
        "id": "2S6LGjkX8lNJ"
      },
      "source": [
        "## *Tuplas*"
      ]
    },
    {
      "cell_type": "code",
      "execution_count": null,
      "metadata": {
        "colab": {
          "base_uri": "https://localhost:8080/"
        },
        "id": "__RrtSu2Vqt5",
        "outputId": "f685ad3b-45b7-4aee-f582-3be7b6670515"
      },
      "outputs": [
        {
          "name": "stdout",
          "output_type": "stream",
          "text": [
            "(4, 'Hola', 6.78, 4)\n",
            "4\n",
            "('Hola', 6.78, 4)\n",
            "True\n",
            "1\n",
            "2\n",
            "4\n",
            "[4, 'Hola', 6.78, 4]\n",
            "(4, 'Hola', 6.78, 4)\n"
          ]
        }
      ],
      "source": [
        "#Tipo de dato parecida a las listas pero no son modificables (flexibilidad) como las listas los elementos\n",
        "#Puede tener tambien diferentes tipos de datos\n",
        "\n",
        "tupla = (4, \"Hola\", 6.78, 4)  #No se pueden agregar mas valores de los ya agregados al inicioni tampococ eliminar\n",
        "\n",
        "print(tupla)  #Mostrar toda la tupla\n",
        "print(tupla[0])  #Mostrar elemento tupla\n",
        "print(tupla[1:])\n",
        "\n",
        "#En las tuplas se puede hacer busqueda\n",
        "print(4 in tupla)\n",
        "print(tupla.index(\"Hola\"))\n",
        "print(tupla.count(4))\n",
        "\n",
        "#En las tuplas se puede usar metodo len\n",
        "print(len(tupla))\n",
        "\n",
        "\n",
        "#Se pueden transformar tuplas en listas y viceversa\n",
        "#Tupla -> Lista\n",
        "lista = list(tupla)\n",
        "print(lista)\n",
        "#Lista -> Tupla\n",
        "tupla1 = tuple(lista)\n",
        "print(tupla1)"
      ]
    },
    {
      "cell_type": "markdown",
      "metadata": {
        "id": "2F3_2lZ08qqa"
      },
      "source": [
        "## *Conjuntos*"
      ]
    },
    {
      "cell_type": "code",
      "execution_count": null,
      "metadata": {
        "colab": {
          "base_uri": "https://localhost:8080/"
        },
        "id": "7ttqEAqPZcG0",
        "outputId": "9e88b14b-4d8e-40db-b3d3-400a3fb133c2"
      },
      "outputs": [
        {
          "name": "stdout",
          "output_type": "stream",
          "text": [
            "{1, 2, 3, 4.56, 'Hola'}\n",
            "True\n",
            "False\n",
            "{1, 2, 3, 4.56, 'Hola', 5, 'Adios', 'a'}\n",
            "{2, 3, 4.56, 'Hola', 5, 'Adios', 'a'}\n"
          ]
        }
      ],
      "source": [
        "#Conjuntos 1.0\n",
        "#Tipo de dato desordenado que guarda valores unicos (no permite duplicacion) - no permite almacenar otra coleccion\n",
        "\n",
        "conjunto = set() #Creacion de un conjunto vacio\n",
        "conjunto = {1,2,3, \"Hola\", 4.56}\n",
        "\n",
        "#Ejemplo de no duplicacion\n",
        "conjunto1 = set()\n",
        "conjunto1 = {1,2,3, \"Hola\", 4.56, 1,2,3}\n",
        "print(conjunto1) #no se duplica\n",
        "\n",
        "#Buscar elemento\n",
        "print(3 in conjunto)\n",
        "print(1 not in conjunto)\n",
        "\n",
        "\n",
        "#Adicionar elementos\n",
        "conjunto.add(5)  #Adicion de manera desordenada\n",
        "conjunto.add(\"Adios\")\n",
        "conjunto.add('a')\n",
        "\n",
        "print(conjunto)\n",
        "\n",
        "#Borrar elementos\n",
        "conjunto.discard(1)\n",
        "print(conjunto)\n",
        "\n",
        "#Dejar el conjunto vacio\n",
        "conjunto.clear()\n",
        "print(conjunto)\n"
      ]
    },
    {
      "cell_type": "code",
      "execution_count": null,
      "metadata": {
        "colab": {
          "base_uri": "https://localhost:8080/"
        },
        "id": "GskNxkWUkmHM",
        "outputId": "6071696b-bb2c-4b87-f4e3-ce4bfd9f1a81"
      },
      "outputs": [
        {
          "name": "stdout",
          "output_type": "stream",
          "text": [
            "False\n",
            "False\n",
            "3\n",
            "{1, 2, 3, 4, 5}\n",
            "{3}\n",
            "{1, 2}\n",
            "{1, 2, 4, 5}\n",
            "True\n",
            "True\n",
            "False\n"
          ]
        }
      ],
      "source": [
        "#Conjuntos 2.0\n",
        "\n",
        "#Conjunto con elementos desde un inicio\n",
        "a = {1,2,3}\n",
        "b = {3,4,5}\n",
        "\n",
        "#Validar si los conjuntos son iguales\n",
        "print(a == b)\n",
        "print(a == c)\n",
        "\n",
        "#Numero de elementos del conjunto\n",
        "print(len(a))\n",
        "\n",
        "\n",
        "#Operaciones entre conjuntos\n",
        "\n",
        "#Union\n",
        "c = a | b\n",
        "print(c)\n",
        "\n",
        "#Interseccion\n",
        "d = a & b\n",
        "print(d)\n",
        "\n",
        "#Diferencia (elementos de a que no esta en b)\n",
        "e = a - b\n",
        "print(e)\n",
        "\n",
        "#Diferencia simetrica (elementos de a y b que no comparten entre ellos)\n",
        "f = a ^ b\n",
        "print(f)\n",
        "\n",
        "#Determina si un conjunto es subconjunto de otro\n",
        "m = {1,2,3,4,5}\n",
        "print(a.issubset(m))\n",
        "#Determina si un conjunto es superconjunto de otro\n",
        "print(m.issuperset(a))\n",
        "\n",
        "#Determkinar si los conjuntos son disconexos (no comparten ningun elemento en comun)\n",
        "print(a.isdisjoint(b))\n",
        "\n",
        "#Conjuntos inmutables (no modificables)\n",
        "z = frozenset({7,8,9})"
      ]
    },
    {
      "cell_type": "markdown",
      "metadata": {
        "id": "nkMC9x9V8vH0"
      },
      "source": [
        "## *Diccionarios*"
      ]
    },
    {
      "cell_type": "code",
      "execution_count": null,
      "metadata": {
        "colab": {
          "base_uri": "https://localhost:8080/"
        },
        "id": "4x4X55-IvtwP",
        "outputId": "30524b86-57ff-4616-9ad7-df85a94b0aac"
      },
      "outputs": [
        {
          "name": "stdout",
          "output_type": "stream",
          "text": [
            "{}\n"
          ]
        }
      ],
      "source": [
        "# Son como estructuras de datos\n",
        "#Dos elementos por posicion: clave y valor (no pueden haber claves duplicadas)\n",
        "\n",
        "diccionario = {}   #Se pone en llaves, en este momento esta vacio\n",
        "print(diccionario)"
      ]
    },
    {
      "cell_type": "code",
      "execution_count": null,
      "metadata": {
        "colab": {
          "base_uri": "https://localhost:8080/"
        },
        "id": "TJUsHMa_o_He",
        "outputId": "c910e4a8-64b7-40f0-80fd-489b01e47df0"
      },
      "outputs": [
        {
          "name": "stdout",
          "output_type": "stream",
          "text": [
            "{'azul': 'blue', 'rojo': 'red', 'verde': 'green'}\n",
            "blue\n",
            "{'azul': 'blue', 'rojo': 'red', 'verde': 'green', 'amarillo': 'yellow'}\n",
            "{'azul': 'BLUE', 'rojo': 'red', 'verde': 'green', 'amarillo': 'yellow'}\n",
            "{'azul': 'BLUE', 'rojo': 'red', 'amarillo': 'yellow'}\n",
            "{'Gabriel': [20, 1.75], 'Jose': [21, 1.73], 'Maria': [25, 1.65]}\n"
          ]
        }
      ],
      "source": [
        "diccionario = {\"azul\": \"blue\", \"rojo\":\"red\", \"verde\":\"green\"}\n",
        "print(diccionario)\n",
        "\n",
        "#Si quiero saber el valor de una clave\n",
        "print(diccionario[\"azul\"])\n",
        "\n",
        "#Agregar nuevos elementos a el diccionario - los elementos se agregan de manera desordenada\n",
        "diccionario[\"amarillo\"] = \"yellow\"\n",
        "print(diccionario)\n",
        "\n",
        "#Modificacion de elementos del diccionario\n",
        "diccionario[\"azul\"] = \"BLUE\"\n",
        "print(diccionario)\n",
        "\n",
        "#Eliminar elementos de un diccionario\n",
        "del(diccionario[\"verde\"])\n",
        "print(diccionario)\n",
        "\n",
        "#Se pueden utilizar diferentes tipos de datos y otros tipos de colecciones\n",
        "dicci = {\"Gabriel\": [20, 1.75], \"Jose\": [21, 1.73], \"Maria\": [25, 1.65]}\n",
        "print(dicci)\n",
        "\n",
        "\n",
        "\n",
        "\n",
        "\n"
      ]
    },
    {
      "cell_type": "code",
      "execution_count": null,
      "metadata": {
        "colab": {
          "base_uri": "https://localhost:8080/"
        },
        "id": "fkCPPqzb4FIi",
        "outputId": "80fdb80b-c97b-4fcf-9e09-81dd678b8412"
      },
      "outputs": [
        {
          "name": "stdout",
          "output_type": "stream",
          "text": [
            "Dybala\n",
            "No existe jugador con ese dorsal\n",
            "True\n",
            "dict_keys([10, 7, 11])\n",
            "dict_values(['Dybala', 'Cristiano', 'Costa'])\n",
            "dict_items([(10, 'Dybala'), (7, 'Cristiano'), (11, 'Costa')])\n",
            "3\n",
            "{}\n"
          ]
        }
      ],
      "source": [
        "#Diccionarios ejemplos\n",
        "\n",
        "equipo = {10:\"Dybala\", 7: \"Cristiano\", 11:\"Costa\"}\n",
        "\n",
        "print(equipo[10])\n",
        "\n",
        "# print(equipo[6]) Error porque clave no esta en diccionario\n",
        "\n",
        "\n",
        "#Manera de mostrar el valor de una clave si esta en el diccionario, y si no esta no hay error\n",
        "print(equipo.get(9, \"No existe jugador con ese dorsal\"))\n",
        "\n",
        "\n",
        "#Busqueda directa de claves\n",
        "print(10 in equipo)\n",
        "\n",
        "#Solo mostrar las claves del diccionario\n",
        "print(equipo.keys())\n",
        "\n",
        "#Solo mostrar los valores del diccionario\n",
        "print(equipo.values())\n",
        "\n",
        "#Mostrar dorsale y equipo\n",
        "print(equipo.items())      #se usa para recorrer diccionarios con ciclos\n",
        "\n",
        "#Mostrar cuantos elementos hay\n",
        "print(len(equipo))\n",
        "\n",
        "#Limpiar el diccionario\n",
        "equipo.clear()\n",
        "print(equipo)"
      ]
    },
    {
      "cell_type": "markdown",
      "metadata": {
        "id": "UIesf03j9arP"
      },
      "source": [
        "## *Ciclos + listas*"
      ]
    },
    {
      "cell_type": "code",
      "execution_count": null,
      "metadata": {
        "colab": {
          "base_uri": "https://localhost:8080/"
        },
        "id": "WQ32DXKh9zma",
        "outputId": "d85c5118-1688-4df0-d98a-789d649aa0fa"
      },
      "outputs": [
        {
          "name": "stdout",
          "output_type": "stream",
          "text": [
            "Digite un numero: -3\n",
            "Deberia ser un numero positivo\n",
            "Digite un numero: 5\n",
            "la raiz cuadrada es: 2.24\n"
          ]
        }
      ],
      "source": [
        "#Bucle while\n",
        "\n",
        "#Ejemplo 1\n",
        "import math\n",
        "numero = int(input(\"Digite un numero: \"))\n",
        "\n",
        "while numero < 0:\n",
        "   print(\"Deberia ser un numero positivo\")\n",
        "   numero = int(input(\"Digite un numero: \"))\n",
        "print(f\"la raiz cuadrada es: {(math.sqrt(numero)):.2f}\")"
      ]
    },
    {
      "cell_type": "code",
      "execution_count": null,
      "metadata": {
        "colab": {
          "base_uri": "https://localhost:8080/"
        },
        "id": "kxEDFb5GLRkK",
        "outputId": "7eba5ead-4cec-45d4-8913-6b11e4503dc1"
      },
      "outputs": [
        {
          "name": "stdout",
          "output_type": "stream",
          "text": [
            "Hola mundo\n",
            "Hola mundo\n",
            "Hola mundo\n",
            "Hola mundo\n",
            "Hola mundo\n",
            "Hola mundo\n",
            "Hola mundo\n",
            "Hola mundo\n",
            "Hola mundo\n",
            "Hola mundo\n",
            "Fin\n"
          ]
        }
      ],
      "source": [
        "#Ejemplo 2\n",
        "i = 0\n",
        "\n",
        "while i < 10:\n",
        "  print(\"Hola mundo\")\n",
        "  i+=1\n",
        "print(\"Fin\")"
      ]
    },
    {
      "cell_type": "code",
      "execution_count": null,
      "metadata": {
        "colab": {
          "base_uri": "https://localhost:8080/"
        },
        "id": "IDebH_Z4LX7W",
        "outputId": "9d142252-dd6c-46fc-dd8d-0ce8c98cecc7"
      },
      "outputs": [
        {
          "name": "stdout",
          "output_type": "stream",
          "text": [
            "Elemento: 1\n",
            "Elemento: 2\n",
            "Elemento: 3\n",
            "Elemento: 4\n",
            "Elemento: 5\n",
            "\n",
            "\n",
            "0 1 2 3 4 "
          ]
        }
      ],
      "source": [
        "#Bucle for\n",
        "\n",
        "vecto = [1,2,3,4,5]\n",
        "\n",
        "for i in vecto:\n",
        "   print(f\"Elemento: {i}\")\n",
        "\n",
        "print(\"\\n\")\n",
        "#ejemplo\n",
        "for i in range(0,5):\n",
        "   print(f\"{i}\",end=\" \")\n"
      ]
    },
    {
      "cell_type": "code",
      "execution_count": null,
      "metadata": {
        "colab": {
          "base_uri": "https://localhost:8080/"
        },
        "id": "is4x8BQ5OpMA",
        "outputId": "24aec284-aa4d-471e-8b66-2956a4a503d4"
      },
      "outputs": [
        {
          "name": "stdout",
          "output_type": "stream",
          "text": [
            "Alejandro --> 22\n",
            "Maria --> 23\n",
            "Jose --> 45\n",
            "Luis --> 12\n",
            "\n",
            "\n",
            "Alejandro --> 22\n",
            "Maria --> 23\n",
            "Jose --> 45\n",
            "Luis --> 12\n"
          ]
        }
      ],
      "source": [
        "# ejemplo con diccionarios\n",
        "\n",
        "coleccion = {\"Alejandro\": 22, \"Maria\":23, \"Jose\": 45, \"Luis\": 12}\n",
        "\n",
        "for i in coleccion:\n",
        "    print(f\"{i} --> {coleccion[i]}\")\n",
        "\n",
        "\n",
        "print(\"\\n\")\n",
        "#Otra manera\n",
        "\n",
        "for clave,valor in coleccion.items():\n",
        "    print(f\"{clave} --> {valor}\")"
      ]
    },
    {
      "cell_type": "code",
      "execution_count": null,
      "metadata": {
        "colab": {
          "base_uri": "https://localhost:8080/"
        },
        "id": "oRGmCdtzSgSx",
        "outputId": "ba04263d-075b-4b8d-bf88-58b1e51b065e"
      },
      "outputs": [
        {
          "name": "stdout",
          "output_type": "stream",
          "text": [
            "G a b r i e l "
          ]
        }
      ],
      "source": [
        "#Ejemplo con caracteres\n",
        "\n",
        "name = \"Gabriel\"\n",
        "\n",
        "for i in name:\n",
        "  print(f\"{i}\", end= \" \")"
      ]
    },
    {
      "cell_type": "markdown",
      "metadata": {
        "id": "7tZ15Pe50VVv"
      },
      "source": [
        "## *Funciones y argumentos*"
      ]
    },
    {
      "cell_type": "code",
      "execution_count": null,
      "metadata": {
        "colab": {
          "base_uri": "https://localhost:8080/"
        },
        "id": "yDlNBt70tTkq",
        "outputId": "7f036c40-d92a-4c53-dcbf-8a4637605b75"
      },
      "outputs": [
        {
          "name": "stdout",
          "output_type": "stream",
          "text": [
            "Hola Mundo!\n"
          ]
        }
      ],
      "source": [
        "#Funcion que no recibe no retorna\n",
        "\n",
        "def Saludo():\n",
        "    print(\"Hola Mundo!\")\n",
        "\n",
        "Saludo()"
      ]
    },
    {
      "cell_type": "code",
      "execution_count": null,
      "metadata": {
        "colab": {
          "base_uri": "https://localhost:8080/"
        },
        "id": "V2tN7glqIrYM",
        "outputId": "18111fe8-b5ed-4596-b462-83477ece2a18"
      },
      "outputs": [
        {
          "name": "stdout",
          "output_type": "stream",
          "text": [
            "Digite numero 1: 4\n",
            "Digite numero 2: 2\n",
            "El resultado de la resta es: 2\n"
          ]
        }
      ],
      "source": [
        "#Funcion que no recibe y retorna\n",
        "\n",
        "def resta():\n",
        "    num1 = int(input(\"Digite numero 1: \"))\n",
        "    num2 = int(input(\"Digite numero 2: \"))\n",
        "    result = num1 - num2\n",
        "    return result\n",
        "\n",
        "minus = resta()\n",
        "print(f\"El resultado de la resta es: {minus}\")"
      ]
    },
    {
      "cell_type": "code",
      "execution_count": null,
      "metadata": {
        "colab": {
          "base_uri": "https://localhost:8080/"
        },
        "id": "qsfAnT7XI2lX",
        "outputId": "43392637-dcbf-42b1-b5e8-9a99685e2afb"
      },
      "outputs": [
        {
          "name": "stdout",
          "output_type": "stream",
          "text": [
            "El resultado de 8 dividido entre 2 es: 4.0\n"
          ]
        }
      ],
      "source": [
        "#Funcion que recibe y no retorna\n",
        "\n",
        "def division(num1, num2):\n",
        "    result = num1 / num2\n",
        "    print(f\"El resultado de {num1} dividido entre {num2} es: {result}\")\n",
        "\n",
        "numero_1 = 8\n",
        "numero_2 = 2\n",
        "division(numero_1, numero_2)"
      ]
    },
    {
      "cell_type": "code",
      "execution_count": null,
      "metadata": {
        "colab": {
          "base_uri": "https://localhost:8080/"
        },
        "id": "tRDKdv5rHyg4",
        "outputId": "717485cb-a846-4779-e705-764594aaf810"
      },
      "outputs": [
        {
          "name": "stdout",
          "output_type": "stream",
          "text": [
            "4\n"
          ]
        }
      ],
      "source": [
        "#Funcion que recibe y retorna\n",
        "\n",
        "def suma(a,b):\n",
        "    sum = a + b\n",
        "    return sum\n",
        "\n",
        "num1 = 1\n",
        "num2 = 3\n",
        "result = suma(num1, num2)\n",
        "print(result)"
      ]
    },
    {
      "cell_type": "code",
      "execution_count": null,
      "metadata": {
        "colab": {
          "base_uri": "https://localhost:8080/"
        },
        "id": "Li87wsksI_KU",
        "outputId": "0d8b64c5-ba5e-4b77-d4b1-1aa794a8462b"
      },
      "outputs": [
        {
          "name": "stdout",
          "output_type": "stream",
          "text": [
            "Hola Gabriel Gonzalez\n",
            "Hola Laura Marin\n"
          ]
        }
      ],
      "source": [
        "#Argumentos predeterminados\n",
        "\n",
        "def hola(nombre, apellido = \"Gonzalez\"):  #Por defecto\n",
        "    print(f\"Hola {nombre} {apellido}\")\n",
        "\n",
        "hola(\"Gabriel\")\n",
        "hola(\"Laura\", \"Marin\")\n",
        "\n"
      ]
    },
    {
      "cell_type": "code",
      "execution_count": null,
      "metadata": {
        "colab": {
          "base_uri": "https://localhost:8080/"
        },
        "id": "ZXJ9rKx-JghF",
        "outputId": "9b70498a-d57a-4c34-a641-dedc26f3edd2"
      },
      "outputs": [
        {
          "name": "stdout",
          "output_type": "stream",
          "text": [
            "Hola Laura Marin\n"
          ]
        }
      ],
      "source": [
        "#Argumentos nombrados - palabras clave\n",
        "\n",
        "def hola(nombre, apellido = \"Gonzalez\"):  #Por defecto\n",
        "    print(f\"Hola {nombre} {apellido}\")\n",
        "\n",
        "hola(apellido = \"Marin\", nombre = \"Laura\")   #orden diferente del parametro"
      ]
    },
    {
      "cell_type": "code",
      "execution_count": null,
      "metadata": {
        "colab": {
          "base_uri": "https://localhost:8080/"
        },
        "id": "EbSgxGflOz0W",
        "outputId": "f139b1d0-f913-4aee-bb8d-a1f4296bb082"
      },
      "outputs": [
        {
          "name": "stdout",
          "output_type": "stream",
          "text": [
            "7\n",
            "14\n",
            "94\n"
          ]
        }
      ],
      "source": [
        "#Xargs   - Args (pasa multiples parametros)\n",
        "\n",
        "def suma(*numeros):\n",
        "    resultado = 0\n",
        "    for i in numeros:\n",
        "        resultado += i\n",
        "    print(resultado)\n",
        "\n",
        "suma(2, 5)\n",
        "suma(2, 5, 7)\n",
        "suma(2, 8, 7, 45, 32)"
      ]
    },
    {
      "cell_type": "code",
      "execution_count": null,
      "metadata": {
        "colab": {
          "base_uri": "https://localhost:8080/"
        },
        "id": "iNztoL3mQg87",
        "outputId": "8d11475c-4172-4dc3-e3d9-18e7c197cf2b"
      },
      "outputs": [
        {
          "name": "stdout",
          "output_type": "stream",
          "text": [
            "23 Iphone\n"
          ]
        }
      ],
      "source": [
        "# Kwargs - (uso para multiple parametros de palabras clave)\n",
        "\n",
        "def get_product(**datos):\n",
        "    print(datos[\"id\"], datos[\"name\"])\n",
        "\n",
        "\n",
        "get_product(id = \"23\", name = \"Iphone\", desc = \"Esto es un Iphone\")\n",
        "\n",
        "\n"
      ]
    },
    {
      "cell_type": "markdown",
      "metadata": {
        "id": "e1UisNI3TrnP"
      },
      "source": [
        "## *Ambito (alcance)*"
      ]
    },
    {
      "cell_type": "code",
      "execution_count": null,
      "metadata": {
        "colab": {
          "base_uri": "https://localhost:8080/"
        },
        "id": "D8CbkI-nT2Tx",
        "outputId": "6961413a-d7f4-4323-dd08-aaccf9e8ed55"
      },
      "outputs": [
        {
          "name": "stdout",
          "output_type": "stream",
          "text": [
            "Hola global\n",
            "Hola Mundo\n"
          ]
        }
      ],
      "source": [
        "# Alcance Global y local\n",
        "\n",
        "saludo = \"Hola global\"\n",
        "\n",
        "def saludar():\n",
        "    global saludo\n",
        "    saludo = \"Hola Mundo\"\n",
        "\n",
        "print(saludo)\n",
        "saludar()\n",
        "print(saludo)\n"
      ]
    },
    {
      "cell_type": "markdown",
      "metadata": {
        "id": "w1_UdHL3H6C6"
      },
      "source": []
    },
    {
      "cell_type": "markdown",
      "metadata": {
        "id": "7gbfhudGH95K"
      },
      "source": [
        "## *Expresion Lambda*"
      ]
    },
    {
      "cell_type": "code",
      "execution_count": null,
      "metadata": {
        "colab": {
          "base_uri": "https://localhost:8080/"
        },
        "id": "NGIKiHSdja2v",
        "outputId": "c6a692b1-0bbc-4b10-c75a-88a0d5199e9c"
      },
      "outputs": [
        {
          "name": "stdout",
          "output_type": "stream",
          "text": [
            "9\n",
            "9\n"
          ]
        }
      ],
      "source": [
        "#  Es una funcion de una manera mas sencilla, para realizar calculos simples\n",
        "# Otra funcion es facilitar el uso de funciones de orden superior\n",
        "\n",
        "#Ejemplo: Realizar una suma entre dos valores\n",
        "\n",
        "#Usando la manera convencional de funciones\n",
        "def suma1(x , y):\n",
        "    return x + y\n",
        "\n",
        "z1 = suma(4,5)\n",
        "print(z1)\n",
        "\n",
        "suma2 = lambda x,y: x+y\n",
        "z2 = suma2(4,5)\n",
        "print(z2)"
      ]
    },
    {
      "cell_type": "code",
      "execution_count": null,
      "metadata": {
        "colab": {
          "base_uri": "https://localhost:8080/"
        },
        "id": "bsZXrzJb7SIp",
        "outputId": "71fa634e-e124-4efa-dac2-a0e7a8514838"
      },
      "outputs": [
        {
          "name": "stdout",
          "output_type": "stream",
          "text": [
            "[0, 1, 4, 9, 16, 25, 36, 49, 64, 81]\n",
            "[0, 1, 4, 9, 16, 25, 36, 49, 64, 81]\n",
            "[0, 1, 4, 9, 16, 25, 36, 49, 64, 81]\n"
          ]
        }
      ],
      "source": [
        "#Comprension de listas\n",
        "\n",
        "#Ejemplo 1\n",
        "squares1 = []\n",
        "for i in range(10):\n",
        "    squares1.append(i**2)\n",
        "\n",
        "print(squares1)\n",
        "\n",
        "\n",
        "#Ejemplo 2\n",
        "squares2 = list(map(lambda x:x**2, range(10)))    #map aplica una funcion a todos los elementos de una lista\n",
        "print(squares2)\n",
        "\n",
        "\n",
        "#Ejemplo 3\n",
        "squares3 = list(x**2 for x in range(10))\n",
        "print(squares3)"
      ]
    },
    {
      "cell_type": "code",
      "execution_count": null,
      "metadata": {
        "colab": {
          "base_uri": "https://localhost:8080/"
        },
        "id": "6VFSgqFBFeFl",
        "outputId": "bdf8d86e-0325-4b15-bd18-8dbf97494b24"
      },
      "outputs": [
        {
          "name": "stdout",
          "output_type": "stream",
          "text": [
            "[27, 64, 125, 216, 343]\n",
            "[27, 64, 125, 216, 343]\n"
          ]
        }
      ],
      "source": [
        "#Ejemplo de uso de expresion lambda\n",
        "\n",
        "def my_map(my_func, my_iter):\n",
        "    result = []\n",
        "    for item in my_iter:\n",
        "        new_item = my_func(item)\n",
        "        result.append(new_item)\n",
        "    return(result)\n",
        "\n",
        "nums = [3, 4, 5, 6, 7]\n",
        "\n",
        "cubed = my_map(lambda x: x**3, nums)\n",
        "\n",
        "print(cubed)\n",
        "\n",
        "\n",
        "#Mismo ejercicio simplificado\n",
        "\n",
        "cubed2 = list(map(lambda x: x**3, nums))\n",
        "print(cubed2)"
      ]
    },
    {
      "cell_type": "code",
      "execution_count": null,
      "metadata": {
        "colab": {
          "base_uri": "https://localhost:8080/"
        },
        "id": "y-oopFDyIZiV",
        "outputId": "3ed271ab-7d29-432c-e9b5-2bab600f53be"
      },
      "outputs": [
        {
          "name": "stdout",
          "output_type": "stream",
          "text": [
            "[(0, 0), (1, 1), (2, 2), (3, 3), (4, 4), (5, 5), (6, 6), (7, 7), (8, 8), (9, 9)]\n",
            "[(0, 0), (1, 1), (2, 2), (3, 3), (4, 4), (5, 5), (6, 6), (7, 7), (8, 8), (9, 9)]\n"
          ]
        }
      ],
      "source": [
        "#Ejemplo comprension lista\n",
        "\n",
        "#Ejemplo extenso\n",
        "num_list = []\n",
        "for i in range(10):\n",
        "    for j in range(10):\n",
        "        if i==j:\n",
        "           num_list.append((i,j))\n",
        "print(num_list)\n",
        "\n",
        "\n",
        "#Ejemplo simplificado\n",
        "num_list = list((i,j) for i in range(10) for j in range(10) if i==j)\n",
        "print(num_list)\n"
      ]
    },
    {
      "cell_type": "markdown",
      "metadata": {
        "id": "zPvPa2XCUWAK"
      },
      "source": [
        "# ---------------------------------------------------------------------------------------------------------------------------------------"
      ]
    },
    {
      "cell_type": "markdown",
      "metadata": {
        "id": "n5NVpXwsH1gN"
      },
      "source": [
        "# **- Programacion en Python POO**"
      ]
    },
    {
      "cell_type": "markdown",
      "metadata": {
        "id": "wtUNS-9gYxP_"
      },
      "source": [
        "POO: Crear mejores formas de resolver el problema (Es una forma de programar)\n",
        "\n",
        "Conceptos:\n",
        "\n",
        "-Objetos (entidades del mundo real)"
      ]
    },
    {
      "cell_type": "markdown",
      "metadata": {
        "id": "EU9A-nLsJyqR"
      },
      "source": [
        "## *Clases y objetos*"
      ]
    },
    {
      "cell_type": "code",
      "execution_count": null,
      "metadata": {
        "colab": {
          "base_uri": "https://localhost:8080/"
        },
        "id": "WpQUfpFPMK5r",
        "outputId": "796e98db-ac13-4a34-f1fe-4ec3c4b90e75"
      },
      "outputs": [
        {
          "name": "stdout",
          "output_type": "stream",
          "text": [
            "<__main__.celular object at 0x7a39fc83d1b0>\n",
            "Samsung\n"
          ]
        }
      ],
      "source": [
        "#Clase - receta que hay que seguir para crear un objeto\n",
        "#Un tipo de objeto que se puede crear (caracteristicas del objeto)\n",
        "\n",
        "class celular:\n",
        "      marca = \"Samsung\"  #Atributos estaticos - iguales para todos los objetos\n",
        "      modelo = \"S23\"\n",
        "      camara = \"48MP\"\n",
        "\n",
        "#Objeto es una instancia de una clase\n",
        "celular1 = celular()\n",
        "print(celular1)  #Imprime que celular es un objetos\n",
        "print(celular1.marca) #Imprime la propiedad"
      ]
    },
    {
      "cell_type": "markdown",
      "metadata": {
        "id": "c3kkdfW7J_pb"
      },
      "source": [
        "## *Atributos*"
      ]
    },
    {
      "cell_type": "code",
      "execution_count": null,
      "metadata": {
        "colab": {
          "base_uri": "https://localhost:8080/"
        },
        "id": "3ZB5-X1eMMSD",
        "outputId": "13342b1c-f35e-42f8-abfb-25b91512fc19"
      },
      "outputs": [
        {
          "name": "stdout",
          "output_type": "stream",
          "text": [
            "Samsung\n",
            "Apple\n"
          ]
        }
      ],
      "source": [
        "#Clases con atributos dinamicos - variables que pertenecen a una clase\n",
        "#Propiedades de instancia - atributos de un objeto que queremos como sean / atributos que se pasan cuando se crea el objeto\n",
        "\n",
        "class celular:\n",
        "    def __init__(self, marca, modelo, camara):   #Metodo constructor - self (referencia al mismo objeto)\n",
        "          self.marca = marca\n",
        "          self.modelo = modelo\n",
        "          self.camara = camara\n",
        "\n",
        "celular1 = celular(\"Samsung\", \"S23\", \"48MP\")\n",
        "celular2 = celular(\"Apple\", \"Iphone 15 pro\", \"96MP\")\n",
        "print(celular1.marca)\n",
        "print(celular2.marca)\n"
      ]
    },
    {
      "cell_type": "markdown",
      "metadata": {
        "id": "DNj_WzoNKGxS"
      },
      "source": [
        "## *Metodos*"
      ]
    },
    {
      "cell_type": "code",
      "execution_count": null,
      "metadata": {
        "colab": {
          "base_uri": "https://localhost:8080/"
        },
        "id": "gB0m7hA3MNVL",
        "outputId": "b6313872-40fc-4f3e-e6fd-76c0b6dd40ef"
      },
      "outputs": [
        {
          "name": "stdout",
          "output_type": "stream",
          "text": [
            "Estas llamando desde un: Iphone 15 pro\n"
          ]
        }
      ],
      "source": [
        "# Un objeto puede hacer 2 cosas:\n",
        "# 1. Tener propiedades o atributos\n",
        "# 2. Hacer acciones (metodos)  - Que cosas puede hacer el objeto\n",
        "\n",
        "#Metodos - funciones dentro de la definicion de una clase (funciones que tiene un objeto)\n",
        "\n",
        "class celular:\n",
        "    def __init__(self, marca, modelo, camara):   #Metodo constructor - self (referencia al mismo objeto)\n",
        "          self.marca = marca\n",
        "          self.modelo = modelo\n",
        "          self.camara = camara\n",
        "    def llamar(self):\n",
        "        print(f\"Estas llamando desde un: {self.modelo}\")\n",
        "\n",
        "    def cortar(self):\n",
        "        print(f\"Cortaste la llamada desde un: {self.modelo}\")\n",
        "\n",
        "\n",
        "celular1 = celular(\"Samsung\", \"S23\", \"48MP\")\n",
        "celular2 = celular(\"Apple\", \"Iphone 15 pro\", \"96MP\")\n",
        "\n",
        "celular2.llamar()\n"
      ]
    },
    {
      "cell_type": "markdown",
      "metadata": {
        "id": "hNY47hgEKKcO"
      },
      "source": [
        "## *Herencia*"
      ]
    },
    {
      "cell_type": "code",
      "execution_count": null,
      "metadata": {
        "colab": {
          "base_uri": "https://localhost:8080/"
        },
        "id": "cU4TbZG9kho9",
        "outputId": "cae7a58d-3b0f-42e8-fe88-702ee442a2d2"
      },
      "outputs": [
        {
          "name": "stdout",
          "output_type": "stream",
          "text": [
            "Roberto\n",
            "Hola Estoy hablando un poco\n"
          ]
        }
      ],
      "source": [
        "#Permite a la clase hija (subclase) tener las propiedades de la clase madre (superclase)\n",
        "\n",
        "class persona:\n",
        "      def __init__(self, nombre, edad, nacionalidad):\n",
        "          self.nombre = nombre\n",
        "          self.edad = edad\n",
        "          self.nacionalidad = nacionalidad\n",
        "      def hablar(self):\n",
        "          print(\"Hola Estoy hablando un poco\")\n",
        "\n",
        "class empleado(persona):\n",
        "      def __init__(self, nombre, edad, nacionalidad, trabajo, salario):\n",
        "          super().__init__(nombre,edad,nacionalidad)\n",
        "          self.trabajo = trabajo\n",
        "          self.salario = salario\n",
        "\n",
        "roberto = empleado(\"Roberto\", 43, \"Argentina\", \"Programador\", 10000)\n",
        "print(roberto.nombre)\n",
        "roberto.hablar()"
      ]
    },
    {
      "cell_type": "markdown",
      "metadata": {
        "id": "UMEokaD7LuJF"
      },
      "source": [
        "## *Herencia multiple*"
      ]
    },
    {
      "cell_type": "code",
      "execution_count": null,
      "metadata": {
        "colab": {
          "base_uri": "https://localhost:8080/"
        },
        "id": "qgviKLnoMP48",
        "outputId": "cb18ecb0-97fa-41b9-a517-57b27c8c27ed"
      },
      "outputs": [
        {
          "name": "stdout",
          "output_type": "stream",
          "text": [
            "Hola, soy: Roberto\n",
            "Mi habilidad es: Cantar\n",
            "y trabajo en Google\n",
            "True\n",
            "True\n"
          ]
        }
      ],
      "source": [
        "#Heredar de mas de una clase\n",
        "\n",
        "class persona:\n",
        "      def __init__(self, nombre, edad, nacionalidad):\n",
        "          self.nombre = nombre\n",
        "          self.edad = edad\n",
        "          self.nacionalidad = nacionalidad\n",
        "      def hablar(self):\n",
        "          print(\"Hola Estoy hablando un poco\")\n",
        "\n",
        "class artista:\n",
        "      def __init__(self, habilidad):\n",
        "          self.habilidad = habilidad\n",
        "\n",
        "      def mostrar_habilidad(self):\n",
        "          print(f\"Mi habilidad es: {self.habilidad}\")\n",
        "\n",
        "\n",
        "class EmpleadoArtista(persona,artista):\n",
        "      def __init__(self, nombre, edad, nacionalidad, habilidad, salario, empresa):\n",
        "          persona.__init__(self,nombre, edad, nacionalidad)\n",
        "          artista.__init__(self, habilidad)\n",
        "          self.salario = salario\n",
        "          self.empresa = empresa\n",
        "\n",
        "      def presentarse(self):\n",
        "          print(f\"Hola, soy: {self.nombre}\")\n",
        "          self.mostrar_habilidad()\n",
        "          print(f\"y trabajo en {self.empresa}\")   ##llamar metodo de la clase padre\n",
        "\n",
        "roberto = EmpleadoArtista(\"Roberto\", 43, \"Argentino\", \"Cantar\", 10000, \"Google\")\n",
        "roberto.presentarse()\n",
        "\n",
        "\n",
        "#Como saber si es una subclase\n",
        "herencia = issubclass(EmpleadoArtista, artista)\n",
        "print(herencia)\n",
        "\n",
        "instancia = isinstance(roberto, EmpleadoArtista)\n",
        "print(instancia)"
      ]
    },
    {
      "cell_type": "markdown",
      "metadata": {
        "id": "H6yMK8doKgP0"
      },
      "source": [
        "## *Polimorfismo*"
      ]
    },
    {
      "cell_type": "code",
      "execution_count": null,
      "metadata": {
        "colab": {
          "base_uri": "https://localhost:8080/"
        },
        "id": "xEJADL3PMRZy",
        "outputId": "d15e12e1-0605-4308-a384-b692c7008f95"
      },
      "outputs": [
        {
          "name": "stdout",
          "output_type": "stream",
          "text": [
            "Guau\n"
          ]
        }
      ],
      "source": [
        "#Multiples formas etimologicamente - en python es automatico\n",
        "#ej\n",
        "\n",
        "class Gato():\n",
        "    def sonido(self):\n",
        "        return \"Miau\"\n",
        "\n",
        "class Perro():\n",
        "    def sonido(self):\n",
        "        return \"Guau\"\n",
        "\n",
        "gato = Gato()\n",
        "perro = Perro()\n",
        "\n",
        "print(perro.sonido())    #Polimorfismo (Mismo metodo aplicado a diferentes objetos)\n",
        "                         #Misma funcion diferente dato per funciona igual (estandarizar llamada de metodos (polimotfismo))"
      ]
    },
    {
      "cell_type": "markdown",
      "metadata": {
        "id": "ZqHlqp1TKm0I"
      },
      "source": [
        "## *Encapsulamiento*"
      ]
    },
    {
      "cell_type": "code",
      "execution_count": null,
      "metadata": {
        "colab": {
          "base_uri": "https://localhost:8080/"
        },
        "id": "eBQf8S7jMSIb",
        "outputId": "c1ff880f-041c-4298-e3f0-f8b064a6130d"
      },
      "outputs": [
        {
          "name": "stdout",
          "output_type": "stream",
          "text": [
            "Audi  R8 is the car\n",
            "Accessing Private Variable:  5.2 L v10\n"
          ]
        }
      ],
      "source": [
        "#Consiste en proteger los elementos de una clase, propiedad de puede volver los elementos privados\n",
        "#Ocultar complejidad de la clase, mejora la legibilidad o evolucion del codigo\n",
        "\n",
        "class Car:\n",
        "    def __init__(self):\n",
        "        self.brand_name = 'Audi '\n",
        "        self.model = ' R8 '\n",
        "        self.__engine = '5.2 L v10'\n",
        "\n",
        "    def get_description(self):\n",
        "        return self.brand_name + self.model + \"is the car\"\n",
        "\n",
        "c = Car()\n",
        "print(c.get_description())\n",
        "print(\"Accessing Private Variable: \", c._Car__engine)\n"
      ]
    },
    {
      "cell_type": "markdown",
      "metadata": {
        "id": "-2g5cbOKL4Fa"
      },
      "source": [
        "## *Decorador*"
      ]
    },
    {
      "cell_type": "code",
      "execution_count": null,
      "metadata": {
        "colab": {
          "base_uri": "https://localhost:8080/"
        },
        "id": "yYO6StmyMTeg",
        "outputId": "14f713de-df98-4e2b-a554-ae717f1fe59e"
      },
      "outputs": [
        {
          "name": "stdout",
          "output_type": "stream",
          "text": [
            "Line Number 1\n",
            "Hello I am line Number 2\n",
            "Line Number 2\n"
          ]
        }
      ],
      "source": [
        "#Una funcion especial que decora a otra - agrega un codigo extra a la funcion que ya existe\n",
        "\n",
        "def decorador(func):\n",
        "    def funcion_modificada():\n",
        "        print(\"Line Number 1\")\n",
        "        func()\n",
        "        print(\"Line Number 2\")\n",
        "    return funcion_modificada\n",
        "\n",
        "\n",
        "@decorador #Ejemplo 2\n",
        "def say_hello():\n",
        "    print(\"Hello I am line Number 2\")\n",
        "\n",
        "# say_hello = decorador(say_hello) ejemplo 1\n",
        "\n",
        "say_hello()\n"
      ]
    }
  ],
  "metadata": {
    "colab": {
      "collapsed_sections": [
        "17-1LFiuODyo",
        "Y260jnbIPqyR",
        "t7Ync1VdHM2g",
        "JCet2ACHq4Jr",
        "t4RaZdaP6xfa",
        "2S6LGjkX8lNJ",
        "2F3_2lZ08qqa",
        "nkMC9x9V8vH0",
        "UIesf03j9arP",
        "7tZ15Pe50VVv",
        "e1UisNI3TrnP",
        "7gbfhudGH95K",
        "n5NVpXwsH1gN",
        "EU9A-nLsJyqR",
        "c3kkdfW7J_pb",
        "DNj_WzoNKGxS",
        "hNY47hgEKKcO",
        "UMEokaD7LuJF",
        "H6yMK8doKgP0",
        "ZqHlqp1TKm0I",
        "-2g5cbOKL4Fa"
      ],
      "provenance": [],
      "toc_visible": true
    },
    "kernelspec": {
      "display_name": "Python 3",
      "name": "python3"
    },
    "language_info": {
      "name": "python"
    }
  },
  "nbformat": 4,
  "nbformat_minor": 0
}
